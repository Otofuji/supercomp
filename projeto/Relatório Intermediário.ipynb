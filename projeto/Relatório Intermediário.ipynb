{
 "cells": [
  {
   "cell_type": "markdown",
   "id": "e9e97ef6",
   "metadata": {},
   "source": [
    "### PROJETO SUPERCOMPUTAÇÃO – RELATÓRIO INTERMEDIÁRIO\n",
    "ERIC FERNANDO OTOFUJI ABRANTES"
   ]
  },
  {
   "cell_type": "markdown",
   "id": "a436278d",
   "metadata": {},
   "source": [
    "#### GERAL\n",
    "Este relatório contém uma análise dos algoritmos desenvolvidos para os projetos, cobrindo os aspectos de tempo de execução frente ao aumento da entrada de dados, principais pontos de lentidão e considerações sobre a estratégia em análise. O relatório também contém o código-fonte utilizado ao longo do mesmo, as entradas de dados e as saídas de dados. Embora originalmente tenha sido programado um código-fonte contendo todos os algoritmos com chamadas a partir da main, para fins deste relatório foram compiladas versões em que apenas um dos algoritmos é executado, como forma de diferenciá-los na execução para os devidos fins deste relatório. "
   ]
  },
  {
   "cell_type": "code",
   "execution_count": 1,
   "id": "98d635cf",
   "metadata": {},
   "outputs": [],
   "source": [
    "import subprocess\n",
    "import time\n",
    "\n",
    "def roda_com_entrada(ex, in_f):\n",
    "    with open(in_f) as f:\n",
    "        start = time.perf_counter()\n",
    "        proc = subprocess.run([ex], input=f.read(), text=True, capture_output=True)\n",
    "        end = time.perf_counter()\n",
    "\n",
    "    return proc.stdout, end-start"
   ]
  },
  {
   "cell_type": "markdown",
   "id": "53afe44d",
   "metadata": {},
   "source": [
    "#### ENTRADAS\n",
    "Foram geradas 8 entradas a partir do programa Python gerador de sequências disponibilizado pelos professores, nomeadas sequence-x.txt, onde x é um número que varia de 0 até 7. O número da sequência indica a quantidade de zeros da entrada. Para sequence-1.txt, as entradas têm tamanho 10 e 40. Para sequence-2.txt, as entradas têm tamanho 100 e 400. Para sequence-3.txt, as entradas têm tamanho 1.000 e 4.000, e assim sucessivamente até a entrada 7. O arquivo sequence-7.txt tem tamanho em disco de 50 MB. Foi gerado um sequence-8.txt, mas ele teve um tamanho em disco de 500 MB, o que é excessivamente grande. A ideia inicial seria que houvessem entradas até a entrada 10, mas diante do tamanho exagerado da entrada 8, decidi por parar na entrada 7. A seguir, veremos limitações de execução de cada algoritmo implementado, em que a máquina executante foi incapaz de executar cada algoritmo para todas as entradas até o tamanho 7, limitando, portanto, a disponibilidade de dados a serem analisados quanto ao tempo de execução frente ao aumento da entrada de dados. Abaixo, temos uma lista com o tamanho da maior sequência para cada entrada, que usaremos posteriormente na construção do gráfico de tempo de execução frente ao aumento da entrada de dados."
   ]
  },
  {
   "cell_type": "code",
   "execution_count": 26,
   "id": "687ed41e",
   "metadata": {},
   "outputs": [],
   "source": [
    "N = [4, 40, 400, 4000, 40000, 400000]"
   ]
  },
  {
   "cell_type": "markdown",
   "id": "a8323139",
   "metadata": {},
   "source": [
    "#### LIMITAÇÃO DE SMITH-WATERMAN\n",
    "O algoritmo foi executado localmente em um MacBook Pro mid-2014. Nesta máquina, o algoritmo foi capaz de executar até a entrada 4, de tamanho 10.000 e 40.000. Na entrada 5, o terminal do macOS encerrou a execução do programa compulsoriamente. O teste de tempo de execução frente o aumento de dados, portanto, irá somente até esta maior entrada que a máquina foi capaz de processar para este algoritmo.\n",
    "\n",
    "#### LIMITAÇÃO DA BUSCA LOCAL\n",
    "O algoritmo foi executado localmente em um MacBook Pro mid-2014. Nesta máquina, o algoritmo foi capaz de executar até a entrada 3, de tamanho 1.000 e 4.000. Na entrada 4, o terminal do macOS encerrou a execução do programa compulsoriamente. O teste de tempo de execução frente o aumento de dados, portanto, irá somente até esta maior entrada que a máquina foi capaz de processar para este algoritmo.\n",
    "\n",
    "#### LIMITAÇÃO DA BUSCA EXAUSTIVA\n",
    "O algoritmo foi executado localmente em um MacBook Pro mid-2014. Nesta máquina, o algoritmo foi capaz de executar até a entrada 1, de tamanho 10 e 40. Na entrada 5, o terminal do macOS encerrou a execução do programa compulsoriamente. O teste de tempo de execução frente o aumento de dados, portanto, irá somente até esta maior entrada que a máquina foi capaz de processar para este algoritmo."
   ]
  },
  {
   "cell_type": "markdown",
   "id": "bb34e00b",
   "metadata": {},
   "source": [
    "#### EXECUÇÃO DE SMITH WATERMAN\n",
    "Rodaremos 5 vezes o algoritmo de Smith Waterman, para as diferentes entradas, e salvaremos o tempo de execução em uma lista para cada entrada para uma análise posterior. "
   ]
  },
  {
   "cell_type": "code",
   "execution_count": 22,
   "id": "546b46d1",
   "metadata": {},
   "outputs": [
    {
     "name": "stdout",
     "output_type": "stream",
     "text": [
      "[0.01787608699987686, 0.00810431600029915, 0.005945441000221763, 0.07707385900039299, 13.397512444999848, 51.58178196799963]\n"
     ]
    }
   ],
   "source": [
    "arqs_sw = [f'./sequence-{i}.txt' for i in range(6)]\n",
    "tempos_sw = [roda_com_entrada('./smith-waterman', arq)[1] for arq in arqs_sw]\n",
    "print(tempos_sw)\n",
    "\n"
   ]
  },
  {
   "cell_type": "markdown",
   "id": "e403cc11",
   "metadata": {},
   "source": [
    "#### EXECUÇÃO DA BUSCA LOCAL\n",
    "Rodaremos 4 vezes o algoritmo de busca local, para as diferentes entradas, e salvaremos o tempo de execução em uma lista para cada entrada para uma análise posterior. "
   ]
  },
  {
   "cell_type": "code",
   "execution_count": null,
   "id": "c807a14d",
   "metadata": {},
   "outputs": [],
   "source": [
    "arqs_bl = [f'./sequence-{i}.txt' for i in range(3)]\n",
    "tempos_bl = [roda_com_entrada('./busca-local', arq)[1] for arq in arqs_bl]\n",
    "print(tempos_bl)"
   ]
  },
  {
   "cell_type": "markdown",
   "id": "baad26e0",
   "metadata": {},
   "source": [
    "#### EXECUÇÃO DA BUSCA EXAUSTIVA\n",
    "Rodaremos 2 vezes o algoritmo de busca exaustiva, para as diferentes entradas, e salvaremos o tempo de execução em uma lista para cada entrada para uma análise posterior. "
   ]
  },
  {
   "cell_type": "code",
   "execution_count": 23,
   "id": "ec7abe76",
   "metadata": {},
   "outputs": [
    {
     "name": "stdout",
     "output_type": "stream",
     "text": [
      "[0.031629235000309563, 0.04112416599991775, 111.64717127499989]\n"
     ]
    }
   ],
   "source": [
    "arqs_be = [f'./sequence-{i}.txt' for i in range(3)]\n",
    "tempos_be = [roda_com_entrada('./busca-exaustiva', arq)[1] for arq in arqs_be]\n",
    "print(tempos_be)"
   ]
  },
  {
   "cell_type": "code",
   "execution_count": 24,
   "id": "e747abbc",
   "metadata": {},
   "outputs": [],
   "source": [
    "tempos_be.append(141.97497445199997)\n",
    "tempos_be.append(141.97497445199997)\n",
    "tempos_be.append(141.97497445199997)"
   ]
  },
  {
   "cell_type": "markdown",
   "id": "d0e83e56",
   "metadata": {},
   "source": [
    "#### TEMPO DE EXECUÇÃO VERSUS TAMANHO DA ENTRADA\n",
    "\n",
    "Abaixo, temos um gráfico mostrando a evolução do tempo de execução frente ao aumento do tamanho da entrada."
   ]
  },
  {
   "cell_type": "code",
   "execution_count": 27,
   "id": "6da2f640",
   "metadata": {},
   "outputs": [
    {
     "data": {
      "image/png": "[encoded data removed]",
      "text/plain": [
       "<Figure size 720x360 with 1 Axes>"
      ]
     },
     "metadata": {
      "needs_background": "light"
     },
     "output_type": "display_data"
    }
   ],
   "source": [
    "import matplotlib.pyplot as plt\n",
    "fig, ax = plt.subplots(figsize=(10,5))\n",
    "ax.set_xlabel('Tamanho da maior sequência de entrada')\n",
    "ax.set_ylabel('Tempo de execução do algoritmo')\n",
    "ax.plot(N, tempos_sw, label='Smith Waterman')\n",
    "#plt.plot(N, tempos_bl, label='Busca Local')\n",
    "plt.plot(N, tempos_be, label='Busca Exaustiva')\n",
    "plt.xscale('log')\n",
    "plt.legend()\n",
    "plt.show()"
   ]
  },
  {
   "cell_type": "markdown",
   "id": "1c983755",
   "metadata": {},
   "source": [
    "#### CONSIDERAÇÕES FINAIS SOBRE SMITH WATERMAN\n",
    "O algoritmo de Smith-Waterman parece ser a heurística que toma o menor tempo, e é também quem conseguiu rodar a maior entrada. Ele utiliza uma abordagem de cálculo da pontuação por meio de uma matriz.\n",
    "\n",
    "#### CONSIDERAÇÕES FINAIS SOBRE BUSCA LOCAL\n",
    "O algoritmo da busca local teve um desempenho deteriorado em relação a Smith Waterman. Inicialmente, esperava que ele tivesse um desempenho superior à implementação de Smith Waterman tradicional por usar a estratégia de busca local para gerar subsequências antes das chamadas recursivas para o cálculo efetivo das pontuações, mas parece pelos resultados obtidos que essa estratégia não diminuiu a complexidade do problema. Pelo contrário, aumentou a complexidade ao ter que gerar várias subsequências e testar individualmente cada uma delas. Ou seja, o ponto de lentidão principal foi em gerar uma determinada quantidade de subsequências e fazer chamadas recursivas para cada uma delas para que seja calculada a pontuação e, depois de n pontuações, verificar qual delas foi a maior para então retornar uma solução. Por algum motivo desconhecido, a célula deste notebook que deveria calcular os tempos de execução para as diferentes entradas nunca termina. Inicialmente, poderíamos imaginar que o algoritmo tenha ido para tempo polinomial, mas seguramente este não é o caso. Rodando individualmente o algoritmo no terminal, ele executa e termina em até 5 minutos para a entrada 3. Porém, mesmo para entradas pequenas, como a entrada 1, por exemplo, o notebook é incapaz de concluir a operação, ainda que tenha extensivamente revisado o código e assegurado que está funcional, idêntico ao que deveria estar e da mesma forma como a implementada para medir o tempo dos outros dois algoritmos, que foi feita com sucesso para os outros dois. Por isso, o gráfico apresentado acima não inclui o tempo de execução do algoritmo de busca local. Por verificações arbitrárias feitas manualmente no terminal, rodando localmente na minha máquina, o tempo de execução está aproximadamente na área entre Smith Waterman e a busca exaustiva, sendo uma solução intermediária entre os dois. \n",
    "\n",
    "#### CONSIDERAÇÕES FINAIS SOBRE BUSCA EXAUSTIVA\n",
    "O algoritmo da busca exaustiva é o que teve o pior desempenho entre todos e conseguiu apenas calcular a pontuação para entradas bem pequenas. Isso é esperado, pois calcular todas as possibilidades é caro computacionalmente para esse problema. Esse é o motivo de termos tentado usar heurísticas ou a solução de exploration da busca local. O ponto de lentidão aqui é que existem laços encadeados que testam todas as combinações possíveis para todos os tamanhos possíveis de ambas as subsequências e o estouro da memória RAM disponível fica evidente conforme as entradas crescrem, pois o aumento da demanda de memória é exponencial, dada a ingenuidade do algoritmo. É por causa desse gargalo que surgiu a necessidade de se utilizar de outras estratégias para tentar chegar a uma solução em tempo polinomial. Por exemplo, Smith Waterman foi capaz de resolver em tempo polinomial a pontuação para uma entrada máxima de 40.000 caracteres, ao passo que a busca exaustiva estourou a memória disponível e fez com que o sistema operacional encerrasse o processo ao tentar resolver uma entrada de 400 caracteres. Como observação final, o gráfico tende a mostrar uma zona de estabilização de tempo, mas isso não deve ser interpretado dessa forma. Conforme indicado na seção sobre as limitações da busca exaustiva, não foi possível executar para entradas maiores. Como o matplotlib.pyplot precisa que a quantidade de tempos medida seja igual à de Ns existentes, repliquei hard-coded o último valor observado e por isso aparenta estar em estabilização. Porém, sabemos analiticamente que o crescimento é exponencial."
   ]
  },
  {
   "cell_type": "code",
   "execution_count": null,
   "id": "d57d1e07",
   "metadata": {},
   "outputs": [],
   "source": []
  }
 ],
 "metadata": {
  "kernelspec": {
   "display_name": "Python 3 (ipykernel)",
   "language": "python",
   "name": "python3"
  },
  "language_info": {
   "codemirror_mode": {
    "name": "ipython",
    "version": 3
   },
   "file_extension": ".py",
   "mimetype": "text/x-python",
   "name": "python",
   "nbconvert_exporter": "python",
   "pygments_lexer": "ipython3",
   "version": "3.8.8"
  }
 },
 "nbformat": 4,
 "nbformat_minor": 5
}
